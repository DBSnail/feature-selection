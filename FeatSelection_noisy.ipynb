{
 "cells": [
  {
   "cell_type": "markdown",
   "metadata": {},
   "source": [
    "# Selection when there are many random features\n",
    "\n",
    "This notebook includes a comparison of feature selection methods when there are more irrelevant features then there are informative ones. The discussion closely follows that of *FeatureSelection.ipynb*."
   ]
  },
  {
   "cell_type": "code",
   "execution_count": 2,
   "metadata": {},
   "outputs": [],
   "source": [
    "# imports\n",
    "import numpy as np\n",
    "import pandas as pd\n",
    "from scipy import stats\n",
    "from itertools import product, combinations\n",
    "import warnings\n",
    "\n",
    "# sklearn\n",
    "from sklearn.linear_model import LogisticRegression, LogisticRegressionCV\n",
    "from sklearn.ensemble import RandomForestClassifier, ExtraTreesClassifier\n",
    "from sklearn.feature_selection import SelectFromModel\n",
    "from sklearn.decomposition import PCA\n",
    "from sklearn.metrics import roc_auc_score, roc_curve, log_loss\n",
    "from sklearn.model_selection import ParameterGrid, StratifiedKFold, RepeatedStratifiedKFold, train_test_split\n",
    "from sklearn.datasets import make_classification\n",
    "\n",
    "# Selectors\n",
    "from utils.selectors import *\n",
    "\n",
    "import matplotlib.pyplot as plt\n",
    "import seaborn as sns\n",
    "warnings.simplefilter('ignore')\n",
    "\n",
    "%matplotlib inline\n",
    "\n",
    "# Setup Seaborn\n",
    "sns.set(rc={\"figure.figsize\": (10, 8), \"font.size\": 10})\n",
    "sns.set_style(\"whitegrid\")\n",
    "sns.set_context(\"talk\", font_scale=1.0, rc={\"lines.linewidth\": 2.5})"
   ]
  },
  {
   "cell_type": "markdown",
   "metadata": {},
   "source": [
    "Create synthetic data with many random features (unlrelated to outcome)"
   ]
  },
  {
   "cell_type": "code",
   "execution_count": 2,
   "metadata": {},
   "outputs": [],
   "source": [
    "# Create synthetic data\n",
    "X, y = make_classification(n_samples=1000, n_features=75, n_informative=5, n_redundant=5, n_classes=2, \n",
    "                           n_clusters_per_class=2, class_sep=1.0, flip_y = 0.005, random_state=1234)\n",
    "\n",
    "# Create training and test split (half of samples in test set)\n",
    "X_tr, X_ts, y_tr, y_ts = train_test_split(X,y,test_size=0.5,stratify = y, random_state=12345)\n",
    "\n",
    "# As dataframe\n",
    "n_feats = 75\n",
    "df_tr = pd.DataFrame(X_tr, columns=['f-'+str(i+1) for i in range(n_feats)])\n",
    "df_tr['label'] = y_tr\n",
    "\n",
    "df_ts = pd.DataFrame(X_ts, columns=['f-'+str(i+1) for i in range(n_feats)])\n",
    "df_ts['label'] = y_ts"
   ]
  },
  {
   "cell_type": "markdown",
   "metadata": {},
   "source": [
    "We have only 5 informative features, and 5 redundant linear combinations of them. The rest of the features are random noise."
   ]
  },
  {
   "cell_type": "markdown",
   "metadata": {},
   "source": [
    "### Univariate analysis"
   ]
  },
  {
   "cell_type": "code",
   "execution_count": 3,
   "metadata": {},
   "outputs": [
    {
     "data": {
      "image/png": "[encoded data removed]",
      "text/plain": [
       "<matplotlib.figure.Figure at 0x11023b160>"
      ]
     },
     "metadata": {},
     "output_type": "display_data"
    }
   ],
   "source": [
    "# Effect sizes and p-values from training data\n",
    "df_v = volcano(df_tr)\n",
    "\n",
    "fig = plt.figure(figsize=(8,6))\n",
    "df_v['log10p'] = df_v['pval'].apply(lambda x: -np.log10(x))\n",
    "\n",
    "sns.scatterplot(data=df_v, x='mc_rate', y='log10p', alpha=0.8)\n",
    "plt.xlabel('Misclassification rate')\n",
    "plt.ylabel('log10(pval)')\n",
    "plt.show()"
   ]
  },
  {
   "cell_type": "markdown",
   "metadata": {},
   "source": [
    "From the univariate analysis, there seem to be around 4 features with low overlap (misclassification rate) that have low p-values. The smallest p-value feature have a large overlap, and may not be relevant."
   ]
  },
  {
   "cell_type": "code",
   "execution_count": 4,
   "metadata": {},
   "outputs": [
    {
     "data": {
      "text/html": [
       "<div>\n",
       "<style scoped>\n",
       "    .dataframe tbody tr th:only-of-type {\n",
       "        vertical-align: middle;\n",
       "    }\n",
       "\n",
       "    .dataframe tbody tr th {\n",
       "        vertical-align: top;\n",
       "    }\n",
       "\n",
       "    .dataframe thead th {\n",
       "        text-align: right;\n",
       "    }\n",
       "</style>\n",
       "<table border=\"1\" class=\"dataframe\">\n",
       "  <thead>\n",
       "    <tr style=\"text-align: right;\">\n",
       "      <th></th>\n",
       "      <th>pval</th>\n",
       "      <th>mc_rate</th>\n",
       "      <th>log10p</th>\n",
       "    </tr>\n",
       "  </thead>\n",
       "  <tbody>\n",
       "    <tr>\n",
       "      <th>f-70</th>\n",
       "      <td>5.054809e-56</td>\n",
       "      <td>0.804</td>\n",
       "      <td>55.296295</td>\n",
       "    </tr>\n",
       "    <tr>\n",
       "      <th>f-32</th>\n",
       "      <td>1.690769e-19</td>\n",
       "      <td>0.332</td>\n",
       "      <td>18.771916</td>\n",
       "    </tr>\n",
       "    <tr>\n",
       "      <th>f-48</th>\n",
       "      <td>7.056951e-19</td>\n",
       "      <td>0.358</td>\n",
       "      <td>18.151383</td>\n",
       "    </tr>\n",
       "    <tr>\n",
       "      <th>f-45</th>\n",
       "      <td>7.455233e-13</td>\n",
       "      <td>0.386</td>\n",
       "      <td>12.127539</td>\n",
       "    </tr>\n",
       "    <tr>\n",
       "      <th>f-67</th>\n",
       "      <td>8.456629e-04</td>\n",
       "      <td>0.558</td>\n",
       "      <td>3.072803</td>\n",
       "    </tr>\n",
       "  </tbody>\n",
       "</table>\n",
       "</div>"
      ],
      "text/plain": [
       "              pval  mc_rate     log10p\n",
       "f-70  5.054809e-56    0.804  55.296295\n",
       "f-32  1.690769e-19    0.332  18.771916\n",
       "f-48  7.056951e-19    0.358  18.151383\n",
       "f-45  7.455233e-13    0.386  12.127539\n",
       "f-67  8.456629e-04    0.558   3.072803"
      ]
     },
     "execution_count": 4,
     "metadata": {},
     "output_type": "execute_result"
    }
   ],
   "source": [
    "df_v.sort_values('pval').head(5)"
   ]
  },
  {
   "cell_type": "markdown",
   "metadata": {},
   "source": [
    "### Ridge Regression\n",
    "\n",
    "Use all features in ridge regression:"
   ]
  },
  {
   "cell_type": "code",
   "execution_count": 8,
   "metadata": {},
   "outputs": [
    {
     "data": {
      "text/plain": [
       "LogisticRegressionCV(Cs=array([1.00000e-04, 1.83298e-04, 3.35982e-04, 6.15848e-04, 1.12884e-03,\n",
       "       2.06914e-03, 3.79269e-03, 6.95193e-03, 1.27427e-02, 2.33572e-02,\n",
       "       4.28133e-02, 7.84760e-02, 1.43845e-01, 2.63665e-01, 4.83293e-01,\n",
       "       8.85867e-01, 1.62378e+00, 2.97635e+00, 5.45559e+00, 1.00000e+01]),\n",
       "           class_weight=None,\n",
       "           cv=<sklearn.model_selection._split.RepeatedStratifiedKFold object at 0x1a1998ee48>,\n",
       "           dual=False, fit_intercept=True, intercept_scaling=1.0,\n",
       "           max_iter=100, multi_class='ovr', n_jobs=-1, penalty='l2',\n",
       "           random_state=None, refit=True, scoring='neg_log_loss',\n",
       "           solver='lbfgs', tol=0.0001, verbose=0)"
      ]
     },
     "execution_count": 8,
     "metadata": {},
     "output_type": "execute_result"
    }
   ],
   "source": [
    "skf = RepeatedStratifiedKFold(n_splits = 5, n_repeats = 5, random_state=12345)\n",
    "clf_cv = LogisticRegressionCV(Cs = np.logspace(-4,1,20), cv = skf, penalty='l2', scoring = 'neg_log_loss',\n",
    "                             n_jobs=-1)\n",
    "clf_cv.fit(X_tr, y_tr)"
   ]
  },
  {
   "cell_type": "code",
   "execution_count": 9,
   "metadata": {},
   "outputs": [],
   "source": [
    "# Predict\n",
    "y_prob_tr = clf_cv.predict_proba(X_tr)\n",
    "y_prob_ts = clf_cv.predict_proba(X_ts)"
   ]
  },
  {
   "cell_type": "code",
   "execution_count": 10,
   "metadata": {},
   "outputs": [
    {
     "name": "stdout",
     "output_type": "stream",
     "text": [
      "Train NLL = -0.3038 :: Test NLL = -0.5102\n",
      "Train AUC = 0.9511 :: Test AUC = 0.8344\n"
     ]
    }
   ],
   "source": [
    "# Log loss and AUC\n",
    "nll_tr = -log_loss(y_tr, y_prob_tr[:,1])\n",
    "nll_ts = -log_loss(y_ts, y_prob_ts[:,1])\n",
    "\n",
    "auc_tr = roc_auc_score(y_tr, y_prob_tr[:,1])\n",
    "auc_ts = roc_auc_score(y_ts, y_prob_ts[:,1])\n",
    "\n",
    "print(\"Train NLL = {:.4f} :: Test NLL = {:.4f}\".format(nll_tr, nll_ts))\n",
    "print(\"Train AUC = {:.4f} :: Test AUC = {:.4f}\".format(auc_tr, auc_ts))"
   ]
  },
  {
   "cell_type": "code",
   "execution_count": 11,
   "metadata": {},
   "outputs": [],
   "source": [
    "# Save weights\n",
    "weights_ridge = np.squeeze(clf_cv.coef_)"
   ]
  },
  {
   "cell_type": "markdown",
   "metadata": {},
   "source": [
    "### LASSO\n",
    "\n",
    "Use all features in LASSO:"
   ]
  },
  {
   "cell_type": "code",
   "execution_count": 12,
   "metadata": {},
   "outputs": [
    {
     "data": {
      "text/plain": [
       "LogisticRegressionCV(Cs=array([1.00000e-04, 1.83298e-04, 3.35982e-04, 6.15848e-04, 1.12884e-03,\n",
       "       2.06914e-03, 3.79269e-03, 6.95193e-03, 1.27427e-02, 2.33572e-02,\n",
       "       4.28133e-02, 7.84760e-02, 1.43845e-01, 2.63665e-01, 4.83293e-01,\n",
       "       8.85867e-01, 1.62378e+00, 2.97635e+00, 5.45559e+00, 1.00000e+01]),\n",
       "           class_weight=None,\n",
       "           cv=<sklearn.model_selection._split.RepeatedStratifiedKFold object at 0x1a1a0735c0>,\n",
       "           dual=False, fit_intercept=True, intercept_scaling=1.0,\n",
       "           max_iter=100, multi_class='ovr', n_jobs=-1, penalty='l1',\n",
       "           random_state=None, refit=True, scoring='neg_log_loss',\n",
       "           solver='liblinear', tol=0.0001, verbose=0)"
      ]
     },
     "execution_count": 12,
     "metadata": {},
     "output_type": "execute_result"
    }
   ],
   "source": [
    "skf = RepeatedStratifiedKFold(n_splits = 5, n_repeats = 5, random_state=12345)\n",
    "clf_cv = LogisticRegressionCV(Cs = np.logspace(-4,1,20), cv = skf, penalty='l1', scoring = 'neg_log_loss',\n",
    "                              solver = 'liblinear', n_jobs=-1)\n",
    "clf_cv.fit(X_tr, y_tr)"
   ]
  },
  {
   "cell_type": "code",
   "execution_count": 13,
   "metadata": {},
   "outputs": [],
   "source": [
    "# Predict\n",
    "y_prob_tr = clf_cv.predict_proba(X_tr)\n",
    "y_prob_ts = clf_cv.predict_proba(X_ts)"
   ]
  },
  {
   "cell_type": "code",
   "execution_count": 14,
   "metadata": {},
   "outputs": [
    {
     "name": "stdout",
     "output_type": "stream",
     "text": [
      "Train NLL = -0.3189 :: Test NLL = -0.5000\n",
      "Train AUC = 0.9413 :: Test AUC = 0.8445\n"
     ]
    }
   ],
   "source": [
    "# Log loss and AUC\n",
    "nll_tr = -log_loss(y_tr, y_prob_tr[:,1])\n",
    "nll_ts = -log_loss(y_ts, y_prob_ts[:,1])\n",
    "\n",
    "auc_tr = roc_auc_score(y_tr, y_prob_tr[:,1])\n",
    "auc_ts = roc_auc_score(y_ts, y_prob_ts[:,1])\n",
    "\n",
    "print(\"Train NLL = {:.4f} :: Test NLL = {:.4f}\".format(nll_tr, nll_ts))\n",
    "print(\"Train AUC = {:.4f} :: Test AUC = {:.4f}\".format(auc_tr, auc_ts))"
   ]
  },
  {
   "cell_type": "code",
   "execution_count": 16,
   "metadata": {},
   "outputs": [
    {
     "name": "stdout",
     "output_type": "stream",
     "text": [
      "Number of selected features = 25\n"
     ]
    }
   ],
   "source": [
    "weights_lasso = np.squeeze(clf_cv.coef_)\n",
    "mask = weights_lasso != 0\n",
    "selected_features_lasso = ['f-' + str(i+1) for i,c in enumerate(weights_lasso) if mask[i] !=0]\n",
    "print(\"Number of selected features = {:d}\".format(len(selected_features_lasso)))"
   ]
  },
  {
   "cell_type": "markdown",
   "metadata": {},
   "source": [
    "### Forward Selection"
   ]
  },
  {
   "cell_type": "markdown",
   "metadata": {},
   "source": [
    "Test forward selection on synthetic data"
   ]
  },
  {
   "cell_type": "code",
   "execution_count": 17,
   "metadata": {},
   "outputs": [
    {
     "name": "stdout",
     "output_type": "stream",
     "text": [
      "Selected feature = f-70 :: best C = 0.4833 :: current CV score = -0.4391\n",
      "Selected feature = f-47 :: best C = 0.8859 :: current CV score = -0.3966\n",
      "Selected feature = f-75 :: best C = 0.8859 :: current CV score = -0.3696\n",
      "Selected feature = f-13 :: best C = 0.8859 :: current CV score = -0.3589\n",
      "Selected feature = f-23 :: best C = 0.8859 :: current CV score = -0.3522\n",
      "Selected feature = f-74 :: best C = 0.8859 :: current CV score = -0.3483\n",
      "Selected feature = f-20 :: best C = 0.8859 :: current CV score = -0.3457\n",
      "Selected feature = f-1 :: best C = 0.8859 :: current CV score = -0.3436\n",
      "Selected feature = f-65 :: best C = 0.8859 :: current CV score = -0.3422\n",
      "Selected feature = f-57 :: best C = 0.8859 :: current CV score = -0.3409\n",
      "Selected feature = f-46 :: best C = 0.8859 :: current CV score = -0.3400\n",
      "Selected feature = f-62 :: best C = 0.4833 :: current CV score = -0.3387\n",
      "Selected feature = f-40 :: best C = 0.4833 :: current CV score = -0.3376\n",
      "Selected feature = f-16 :: best C = 0.4833 :: current CV score = -0.3370\n",
      "Selected feature = f-36 :: best C = 0.4833 :: current CV score = -0.3366\n",
      "Selected feature = f-25 :: best C = 0.4833 :: current CV score = -0.3360\n",
      "Selected feature = f-31 :: best C = 0.4833 :: current CV score = -0.3357\n",
      "Selected feature = f-45 :: best C = 0.4833 :: current CV score = -0.3356\n",
      "Selected feature = f-67 :: best C = 0.4833 :: current CV score = -0.3348\n",
      "Selected feature = f-5 :: best C = 0.4833 :: current CV score = -0.3347\n",
      "Selected feature = f-52 :: best C = 0.2637 :: current CV score = -0.3346\n",
      "Selected feature = f-48 :: best C = 0.2637 :: current CV score = -0.3340\n",
      "Selected feature = f-32 :: best C = 0.2637 :: current CV score = -0.3339\n",
      "Selected feature = f-73 :: best C = 0.2637 :: current CV score = -0.3338\n",
      "Selected feature = f-66 :: best C = 0.2637 :: current CV score = -0.3334\n",
      "Selected feature = f-43 :: best C = 0.2637 :: current CV score = -0.3335\n",
      "Selected feature = f-53 :: best C = 0.2637 :: current CV score = -0.3336\n",
      "Selected feature = f-11 :: best C = 0.2637 :: current CV score = -0.3340\n",
      "Selected feature = f-59 :: best C = 0.2637 :: current CV score = -0.3346\n",
      "Selected feature = f-24 :: best C = 0.2637 :: current CV score = -0.3354\n"
     ]
    }
   ],
   "source": [
    "feature_list = ['f-'+str(i+1) for i in range(n_feats)]\n",
    "rep_ridge = forward_select_ridge(df_tr, feature_list, Cs = np.logspace(-4,1,20), n_max=30)"
   ]
  },
  {
   "cell_type": "markdown",
   "metadata": {},
   "source": [
    "From the log, we can see that the CV scores start to decrease after a while. Let's find the maximum position to determine the best set of features and C (optimized together):"
   ]
  },
  {
   "cell_type": "code",
   "execution_count": 18,
   "metadata": {},
   "outputs": [
    {
     "name": "stdout",
     "output_type": "stream",
     "text": [
      "25/75 features chosen\n"
     ]
    }
   ],
   "source": [
    "nlls_forward = [sc for f,c,sc in rep_ridge]\n",
    "feat_lists = [f for f,c,sc in rep_ridge]\n",
    "\n",
    "idx_best = np.argmax(nlls_forward)\n",
    "selected_features_forward = feat_lists[idx_best]\n",
    "print(\"{:d}/{:d} features chosen\".format(len(selected_features_forward),n_feats))"
   ]
  },
  {
   "cell_type": "code",
   "execution_count": 19,
   "metadata": {},
   "outputs": [
    {
     "data": {
      "image/png": "[encoded data removed]",
      "text/plain": [
       "<matplotlib.figure.Figure at 0x1a19afd5c0>"
      ]
     },
     "metadata": {},
     "output_type": "display_data"
    }
   ],
   "source": [
    "fig = plt.figure(figsize=(8,6))\n",
    "plt.plot(np.arange(1,31), nlls_forward, 'b-o')\n",
    "plt.axvline(25, color='red', linestyle = ':')\n",
    "plt.xlabel('Number of features')\n",
    "plt.ylabel('-Log Loss')\n",
    "plt.show()"
   ]
  },
  {
   "cell_type": "markdown",
   "metadata": {},
   "source": [
    "Refit with the determined hyper-parameters and evaluate performance."
   ]
  },
  {
   "cell_type": "code",
   "execution_count": 20,
   "metadata": {},
   "outputs": [],
   "source": [
    "# Refit using best hyper-parameters\n",
    "f_list_sk, c_best, _ = rep_ridge[idx_best]\n",
    "\n",
    "xx_tr = df_tr[f_list_sk]\n",
    "xx_ts = df_ts[f_list_sk]\n",
    "clf_fin = LogisticRegression(C=c_best, penalty='l2')\n",
    "clf_fin.fit(xx_tr, y_tr)\n",
    "\n",
    "# Predict\n",
    "y_prob_tr = clf_fin.predict_proba(xx_tr)\n",
    "y_prob_ts = clf_fin.predict_proba(xx_ts)"
   ]
  },
  {
   "cell_type": "code",
   "execution_count": 21,
   "metadata": {},
   "outputs": [
    {
     "name": "stdout",
     "output_type": "stream",
     "text": [
      "Train NLL = -0.2944 :: Test NLL = -0.5878\n",
      "Train AUC = 0.9482 :: Test AUC = 0.8235\n"
     ]
    }
   ],
   "source": [
    "# Log loss and AUC\n",
    "nll_tr = -log_loss(y_tr, y_prob_tr[:,1])\n",
    "nll_ts = -log_loss(y_ts, y_prob_ts[:,1])\n",
    "\n",
    "auc_tr = roc_auc_score(y_tr, y_prob_tr[:,1])\n",
    "auc_ts = roc_auc_score(y_ts, y_prob_ts[:,1])\n",
    "\n",
    "print(\"Train NLL = {:.4f} :: Test NLL = {:.4f}\".format(nll_tr, nll_ts))\n",
    "print(\"Train AUC = {:.4f} :: Test AUC = {:.4f}\".format(auc_tr, auc_ts))"
   ]
  },
  {
   "cell_type": "code",
   "execution_count": 22,
   "metadata": {},
   "outputs": [],
   "source": [
    "# Forward selection weights\n",
    "weights_forward = np.squeeze(clf_fin.coef_)"
   ]
  },
  {
   "cell_type": "markdown",
   "metadata": {},
   "source": [
    "### Selection of Features by tree ensembles"
   ]
  },
  {
   "cell_type": "code",
   "execution_count": 23,
   "metadata": {},
   "outputs": [
    {
     "data": {
      "text/plain": [
       "RandomForestClassifier(bootstrap=True, class_weight=None, criterion='gini',\n",
       "            max_depth=None, max_features=10, max_leaf_nodes=None,\n",
       "            min_impurity_decrease=0.0, min_impurity_split=None,\n",
       "            min_samples_leaf=1, min_samples_split=2,\n",
       "            min_weight_fraction_leaf=0.0, n_estimators=500, n_jobs=-1,\n",
       "            oob_score=False, random_state=None, verbose=0,\n",
       "            warm_start=False)"
      ]
     },
     "execution_count": 23,
     "metadata": {},
     "output_type": "execute_result"
    }
   ],
   "source": [
    "# Extra trees for Feature selection\n",
    "rf = RandomForestClassifier(n_estimators=500, max_features=10, n_jobs=-1)\n",
    "rf.fit(X_tr, y_tr)"
   ]
  },
  {
   "cell_type": "code",
   "execution_count": 25,
   "metadata": {},
   "outputs": [
    {
     "name": "stdout",
     "output_type": "stream",
     "text": [
      "Number of selected features = 10\n"
     ]
    }
   ],
   "source": [
    "# Select features\n",
    "selector = SelectFromModel(rf, prefit=True)\n",
    "X_tr_new = selector.transform(X_tr)\n",
    "X_ts_new = selector.transform(X_ts)\n",
    "\n",
    "mask = list(selector.get_support())\n",
    "selected_features_rf = [f for i,f in enumerate(range(n_feats)) if mask[i] == True]\n",
    "selected_features_rf = list(map(lambda x: 'f-' + str(x), selected_features_rf))\n",
    "print(\"Number of selected features = {:d}\".format(len(selected_features_rf)))"
   ]
  },
  {
   "cell_type": "markdown",
   "metadata": {},
   "source": [
    "Now that we have selected the features, let's use them to train a separate ridge regression classifier."
   ]
  },
  {
   "cell_type": "code",
   "execution_count": 26,
   "metadata": {},
   "outputs": [
    {
     "data": {
      "text/plain": [
       "LogisticRegressionCV(Cs=array([1.00000e-04, 1.83298e-04, 3.35982e-04, 6.15848e-04, 1.12884e-03,\n",
       "       2.06914e-03, 3.79269e-03, 6.95193e-03, 1.27427e-02, 2.33572e-02,\n",
       "       4.28133e-02, 7.84760e-02, 1.43845e-01, 2.63665e-01, 4.83293e-01,\n",
       "       8.85867e-01, 1.62378e+00, 2.97635e+00, 5.45559e+00, 1.00000e+01]),\n",
       "           class_weight=None,\n",
       "           cv=<sklearn.model_selection._split.RepeatedStratifiedKFold object at 0x1a19909470>,\n",
       "           dual=False, fit_intercept=True, intercept_scaling=1.0,\n",
       "           max_iter=100, multi_class='ovr', n_jobs=-1, penalty='l2',\n",
       "           random_state=None, refit=True, scoring='neg_log_loss',\n",
       "           solver='lbfgs', tol=0.0001, verbose=0)"
      ]
     },
     "execution_count": 26,
     "metadata": {},
     "output_type": "execute_result"
    }
   ],
   "source": [
    "skf = RepeatedStratifiedKFold(n_splits=5, n_repeats=5, random_state=12345)\n",
    "clf = LogisticRegressionCV(Cs = np.logspace(-4,1,20), penalty='l2', cv=skf, scoring='neg_log_loss', n_jobs=-1)\n",
    "clf.fit(X_tr_new, y_tr)"
   ]
  },
  {
   "cell_type": "code",
   "execution_count": 27,
   "metadata": {},
   "outputs": [
    {
     "name": "stdout",
     "output_type": "stream",
     "text": [
      "Train NLL = -0.3489 :: Test NLL = -0.4856\n",
      "Train AUC = 0.9252 :: Test AUC = 0.8558\n"
     ]
    }
   ],
   "source": [
    "# Predict\n",
    "y_prob_tr = clf.predict_proba(X_tr_new)\n",
    "y_prob_ts = clf.predict_proba(X_ts_new)\n",
    "\n",
    "# Log loss and AUC\n",
    "nll_tr = -log_loss(y_tr, y_prob_tr[:,1])\n",
    "nll_ts = -log_loss(y_ts, y_prob_ts[:,1])\n",
    "\n",
    "auc_tr = roc_auc_score(y_tr, y_prob_tr[:,1])\n",
    "auc_ts = roc_auc_score(y_ts, y_prob_ts[:,1])\n",
    "\n",
    "print(\"Train NLL = {:.4f} :: Test NLL = {:.4f}\".format(nll_tr, nll_ts))\n",
    "print(\"Train AUC = {:.4f} :: Test AUC = {:.4f}\".format(auc_tr, auc_ts))"
   ]
  },
  {
   "cell_type": "code",
   "execution_count": 28,
   "metadata": {},
   "outputs": [],
   "source": [
    "weights_rf_ridge = np.squeeze(clf.coef_)"
   ]
  },
  {
   "cell_type": "markdown",
   "metadata": {},
   "source": [
    "Visualizing all selected features:"
   ]
  },
  {
   "cell_type": "markdown",
   "metadata": {},
   "source": [
    "## Comparison\n",
    "\n",
    "Let's compare which features are selected from each procedure:"
   ]
  },
  {
   "cell_type": "code",
   "execution_count": 32,
   "metadata": {},
   "outputs": [],
   "source": [
    "# Visualize all weights from different models together\n",
    "ser_ridge = pd.Series(weights_ridge, index = df_tr.columns.tolist()[:-1])\n",
    "ser_lasso = pd.Series(weights_lasso, index = df_tr.columns.tolist()[:-1])\n",
    "ser_forward = pd.Series(weights_forward, index = selected_features_forward)\n",
    "ser_rf = pd.Series(weights_rf_ridge, index = selected_features_rf)\n",
    "\n",
    "# Rescale\n",
    "ser_ridge = ser_ridge / (ser_ridge.max() - ser_ridge.min())\n",
    "ser_lasso = ser_lasso / (ser_lasso.max() - ser_lasso.min())\n",
    "ser_forward = ser_forward / (ser_forward.max() - ser_forward.min())\n",
    "ser_rf = ser_rf / (ser_rf.max() - ser_rf.min())\n",
    "\n",
    "all_w = pd.DataFrame(index=df_tr.columns.tolist()[:-1])\n",
    "all_w['ridge'] = ser_ridge\n",
    "all_w['lasso'] = ser_lasso\n",
    "all_w['forward'] = ser_forward\n",
    "all_w['RF+Ridge'] = ser_rf\n",
    "all_w = all_w.fillna(0)"
   ]
  },
  {
   "cell_type": "markdown",
   "metadata": {},
   "source": [
    "Let's plot the features as a heatmap"
   ]
  },
  {
   "cell_type": "code",
   "execution_count": 33,
   "metadata": {},
   "outputs": [
    {
     "data": {
      "image/png": "[encoded data removed]",
      "text/plain": [
       "<matplotlib.figure.Figure at 0x1a1acfa4a8>"
      ]
     },
     "metadata": {},
     "output_type": "display_data"
    }
   ],
   "source": [
    "plt.rc('ytick', labelsize=12)\n",
    "fig = plt.figure(figsize=(20,10))\n",
    "plt.rc('xtick', labelsize=10)\n",
    "df_ = all_w.sort_values('lasso', ascending=False).T\n",
    "\n",
    "cmap = sns.color_palette(\"RdBu_r\", 17)\n",
    "sns.heatmap(df_, cmap=cmap, annot=False, linewidths=.5, cbar_kws={'label': 'weight'}, vmax=0.8, vmin=-0.8)\n",
    "plt.title('Resclaed Weights')\n",
    "plt.show()"
   ]
  }
 ],
 "metadata": {
  "kernelspec": {
   "display_name": "Python 3",
   "language": "python",
   "name": "python3"
  },
  "language_info": {
   "codemirror_mode": {
    "name": "ipython",
    "version": 3
   },
   "file_extension": ".py",
   "mimetype": "text/x-python",
   "name": "python",
   "nbconvert_exporter": "python",
   "pygments_lexer": "ipython3",
   "version": "3.6.4"
  }
 },
 "nbformat": 4,
 "nbformat_minor": 2
}
